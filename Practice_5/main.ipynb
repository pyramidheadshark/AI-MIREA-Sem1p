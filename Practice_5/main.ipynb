{
 "cells": [
  {
   "cell_type": "code",
   "execution_count": 7,
   "metadata": {},
   "outputs": [],
   "source": [
    "import math"
   ]
  },
  {
   "cell_type": "markdown",
   "metadata": {},
   "source": [
    "## 1.2"
   ]
  },
  {
   "cell_type": "markdown",
   "metadata": {},
   "source": [
    "### 1.2.3"
   ]
  },
  {
   "cell_type": "code",
   "execution_count": 8,
   "metadata": {},
   "outputs": [],
   "source": [
    "class Trigonometry:\n",
    "    def __init__(self, deg):\n",
    "        self.deg = deg\n",
    "        self.rad = self._deg_to_rad()\n",
    "\n",
    "    def _deg_to_rad(self):\n",
    "        return self.deg * math.pi / 180\n",
    "\n",
    "    def sin(self):\n",
    "        return round(math.sin(self.rad), 1)\n",
    "\n",
    "    def cos(self):\n",
    "        return round(math.cos(self.rad), 1)\n",
    "\n",
    "    def tan(self):\n",
    "        return round(math.tan(self.rad), 1)\n",
    "\n",
    "    def arcsin(self):\n",
    "        return round(math.asin(self.rad), 1)\n",
    "\n",
    "    def arccos(self):\n",
    "        return round(math.acos(self.rad), 1)\n",
    "\n",
    "    def arctan(self):\n",
    "        return round(math.atan(self.rad), 1)"
   ]
  },
  {
   "cell_type": "code",
   "execution_count": 10,
   "metadata": {},
   "outputs": [
    {
     "name": "stdout",
     "output_type": "stream",
     "text": [
      "0.5\n",
      "0.9\n",
      "0.6\n",
      "0.6\n",
      "1.0\n",
      "0.5\n"
     ]
    }
   ],
   "source": [
    "d = Trigonometry(30)\n",
    "\n",
    "print(d.sin())\n",
    "print(d.cos())\n",
    "print(d.tan())\n",
    "print(d.arcsin())\n",
    "print(d.arccos())\n",
    "print(d.arctan())"
   ]
  },
  {
   "cell_type": "code",
   "execution_count": 12,
   "metadata": {},
   "outputs": [
    {
     "name": "stdout",
     "output_type": "stream",
     "text": [
      "0.524\n"
     ]
    }
   ],
   "source": [
    "result = round(Trigonometry(30)._deg_to_rad(), 3)\n",
    "print(result)"
   ]
  },
  {
   "attachments": {
    "image.png": {
     "image/png": "[encoded data removed]"
    }
   },
   "cell_type": "markdown",
   "metadata": {},
   "source": [
    "![image.png](attachment:image.png)"
   ]
  },
  {
   "cell_type": "markdown",
   "metadata": {},
   "source": [
    "### 1.2.2"
   ]
  },
  {
   "cell_type": "code",
   "execution_count": 13,
   "metadata": {},
   "outputs": [],
   "source": [
    "tree = ['a',\n",
    "        ['b',\n",
    "         ['d'],\n",
    "         ['e']\n",
    "         ],\n",
    "        ['c',\n",
    "         ['f']\n",
    "         ]]"
   ]
  },
  {
   "cell_type": "code",
   "execution_count": 14,
   "metadata": {},
   "outputs": [
    {
     "name": "stdout",
     "output_type": "stream",
     "text": [
      "Корень: a\n",
      "Левое поддерево: ['b', ['d'], ['e']]\n",
      "Правое поддерево: ['c', ['f']]\n"
     ]
    }
   ],
   "source": [
    "def print_tree(tree):\n",
    "    root, left, right = tree\n",
    "    print(\"Корень:\", root)\n",
    "    print(\"Левое поддерево:\", left)\n",
    "    print(\"Правое поддерево:\", right)\n",
    "\n",
    "print_tree(tree)"
   ]
  },
  {
   "cell_type": "code",
   "execution_count": null,
   "metadata": {},
   "outputs": [
    {
     "name": "stdout",
     "output_type": "stream",
     "text": [
      "0.9\n",
      "0.5\n",
      "1.7\n"
     ]
    },
    {
     "ename": "ValueError",
     "evalue": "math domain error",
     "output_type": "error",
     "traceback": [
      "\u001b[1;31m---------------------------------------------------------------------------\u001b[0m\n",
      "\u001b[1;31mValueError\u001b[0m                                Traceback (most recent call last)\n",
      "Cell \u001b[1;32mIn[9], line 6\u001b[0m\n",
      "\u001b[0;32m      4\u001b[0m \u001b[38;5;28mprint\u001b[39m(d\u001b[38;5;241m.\u001b[39mcos())\n",
      "\u001b[0;32m      5\u001b[0m \u001b[38;5;28mprint\u001b[39m(d\u001b[38;5;241m.\u001b[39mtan())\n",
      "\u001b[1;32m----> 6\u001b[0m \u001b[38;5;28mprint\u001b[39m(\u001b[43md\u001b[49m\u001b[38;5;241;43m.\u001b[39;49m\u001b[43marcsin\u001b[49m\u001b[43m(\u001b[49m\u001b[43m)\u001b[49m)\n",
      "\u001b[0;32m      7\u001b[0m \u001b[38;5;28mprint\u001b[39m(d\u001b[38;5;241m.\u001b[39marccos())\n",
      "\u001b[0;32m      8\u001b[0m \u001b[38;5;28mprint\u001b[39m(d\u001b[38;5;241m.\u001b[39marctan())\n",
      "\n",
      "Cell \u001b[1;32mIn[8], line 19\u001b[0m, in \u001b[0;36mTrigonometry.arcsin\u001b[1;34m(self)\u001b[0m\n",
      "\u001b[0;32m     18\u001b[0m \u001b[38;5;28;01mdef\u001b[39;00m \u001b[38;5;21marcsin\u001b[39m(\u001b[38;5;28mself\u001b[39m):\n",
      "\u001b[1;32m---> 19\u001b[0m     \u001b[38;5;28;01mreturn\u001b[39;00m \u001b[38;5;28mround\u001b[39m(\u001b[43mmath\u001b[49m\u001b[38;5;241;43m.\u001b[39;49m\u001b[43masin\u001b[49m\u001b[43m(\u001b[49m\u001b[38;5;28;43mself\u001b[39;49m\u001b[38;5;241;43m.\u001b[39;49m\u001b[43mrad\u001b[49m\u001b[43m)\u001b[49m, \u001b[38;5;241m1\u001b[39m)\n",
      "\n",
      "\u001b[1;31mValueError\u001b[0m: math domain error"
     ]
    }
   ],
   "source": [
    "d = Trigonometry(60)\n",
    "\n",
    "print(d.sin())\n",
    "print(d.cos())\n",
    "print(d.tan())\n",
    "print(d.arcsin())\n",
    "print(d.arccos())\n",
    "print(d.arctan())"
   ]
  },
  {
   "cell_type": "code",
   "execution_count": 25,
   "metadata": {},
   "outputs": [],
   "source": [
    "class Tree:\n",
    "    def __init__(self, data):\n",
    "        self.left = None\n",
    "        self.right = None\n",
    "        self.data = data\n",
    "\n",
    "    def print_tree(self, level=0, prefix=\"Root: \"):\n",
    "        print(\"  \" * level + prefix + str(self.data))\n",
    "        if self.left:\n",
    "            self.left.print_tree(level + 1, \"Left: \")\n",
    "        if self.right:\n",
    "            self.right.print_tree(level + 1, \"Right: \")\n",
    "\n",
    "    def insert_data(self, data):\n",
    "        if data < self.data:\n",
    "            if self.left:\n",
    "                self.left.insert_data(data)\n",
    "            else:\n",
    "                self.left = Tree(data)\n",
    "        else:\n",
    "            if self.right:\n",
    "                self.right.insert_data(data)\n",
    "            else:\n",
    "                self.right = Tree(data)"
   ]
  },
  {
   "cell_type": "code",
   "execution_count": 26,
   "metadata": {},
   "outputs": [],
   "source": [
    "root = Tree(27)\n",
    "root.insert_data(14)\n",
    "root.insert_data(35)\n",
    "root.insert_data(20)\n",
    "root.insert_data(31)\n",
    "root.insert_data(29)"
   ]
  },
  {
   "cell_type": "code",
   "execution_count": 27,
   "metadata": {},
   "outputs": [
    {
     "name": "stdout",
     "output_type": "stream",
     "text": [
      "Root: 27\n",
      "  Left: 14\n",
      "    Right: 20\n",
      "  Right: 35\n",
      "    Left: 31\n",
      "      Left: 29\n"
     ]
    }
   ],
   "source": [
    "root.print_tree()"
   ]
  },
  {
   "cell_type": "code",
   "execution_count": null,
   "metadata": {},
   "outputs": [],
   "source": []
  }
 ],
 "metadata": {
  "kernelspec": {
   "display_name": "DS-Practice-Sem1",
   "language": "python",
   "name": "python3"
  },
  "language_info": {
   "codemirror_mode": {
    "name": "ipython",
    "version": 3
   },
   "file_extension": ".py",
   "mimetype": "text/x-python",
   "name": "python",
   "nbconvert_exporter": "python",
   "pygments_lexer": "ipython3",
   "version": "3.9.20"
  }
 },
 "nbformat": 4,
 "nbformat_minor": 2
}
